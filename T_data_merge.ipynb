{
 "cells": [
  {
   "cell_type": "code",
   "execution_count": 1,
   "metadata": {},
   "outputs": [],
   "source": [
    "import pandas as pd\n",
    "import os"
   ]
  },
  {
   "cell_type": "code",
   "execution_count": 2,
   "metadata": {},
   "outputs": [],
   "source": [
    "# # 定义文件路径列表\n",
    "# file_name = [\n",
    "#     'data_raw_20241222_py_merged_91.pkl',\n",
    "#     'data_raw_20241223_py_merged_91.pkl',\n",
    "#     'data_raw_20241224_py_merged_91.pkl',\n",
    "#     'data_raw_20241225_py_merged_91.pkl',\n",
    "#     'data_raw_20241226_py_merged_91.pkl',\n",
    "#     'data_raw_20241227_py_merged_91.pkl',\n",
    "#     'data_raw_20241228_py_merged_91.pkl',\n",
    "# ]\n",
    "\n",
    "# file_paths = 'z_data_new/data_merged_91'\n",
    "\n",
    "# def file_merge(file_name):\n",
    "#     dfs = []\n",
    "#     for file in file_name:\n",
    "#         if os.path.exists(file):\n",
    "#             df = pd.read_pickle(os.path.join(file_paths,file))\n",
    "#             dfs.append(df)\n",
    "#         else:\n",
    "#             print(f\"File {file} does not exist.\")\n",
    "#     merged_df = pd.concat(dfs, ignore_index=True)\n",
    "#     return merged_df\n",
    "\n",
    "# # 使用定义的函数读取并合并文件\n",
    "# data = file_merge(file_paths)\n",
    "\n",
    "\n",
    "\n",
    "# file_name = [\n",
    "#     'data_raw_20241222_py_merged_91.pkl',\n",
    "#     'data_raw_20241223_py_merged_91.pkl',\n",
    "#     'data_raw_20241224_py_merged_91.pkl',\n",
    "#     'data_raw_20241225_py_merged_91.pkl',\n",
    "#     'data_raw_20241226_py_merged_91.pkl',\n",
    "#     'data_raw_20241227_py_merged_91.pkl',\n",
    "#     'data_raw_20241228_py_merged_91.pkl',\n",
    "#     'data_raw_20241229_py_merged_91.pkl',\n",
    "#     'data_raw_20241230_py_merged_91.pkl',\n",
    "#     'data_raw_20241231_py_merged_91.pkl',\n",
    "#     'data_raw_20250101_py_merged_91.pkl',\n",
    "#     'data_raw_20250102_py_merged_91.pkl',\n",
    "#     'data_raw_20250103_py_merged_91.pkl',\n",
    "#     'data_raw_20250104_py_merged_91.pkl',\n",
    "#     'data_raw_20250105_py_merged_91.pkl',\n",
    "# ]\n",
    "\n",
    "\n",
    "file_name = [\n",
    "    'data_raw_20250107_py_merged_91.pkl',\n",
    "    'data_raw_20250108_py_merged_91.pkl',\n",
    "    'data_raw_20250109_py_merged_91.pkl',\n",
    "    'data_raw_20250110_py_merged_91.pkl',\n",
    "    'data_raw_20250111_py_merged_91.pkl',\n",
    "    'data_raw_20250112_py_merged_91.pkl',\n",
    "]\n",
    "\n",
    "file_paths = 'z_data_new2/data_merged101'\n",
    "\n",
    "def file_merge(file_name):\n",
    "    dfs = []\n",
    "    for file in file_name:\n",
    "        file_path = os.path.join(file_paths, file)\n",
    "        if os.path.exists(file_path):\n",
    "            df = pd.read_pickle(file_path)\n",
    "            dfs.append(df)\n",
    "        else:\n",
    "            print(f\"File {file_path} does not exist.\")\n",
    "    \n",
    "    if not dfs:\n",
    "        raise ValueError(\"No valid files to concatenate\")\n",
    "    \n",
    "    merged_df = pd.concat(dfs, ignore_index=True)\n",
    "    return merged_df\n",
    "\n",
    "# 使用定义的函数读取并合并文件\n",
    "data = file_merge(file_name)"
   ]
  },
  {
   "cell_type": "code",
   "execution_count": 3,
   "metadata": {},
   "outputs": [
    {
     "name": "stdout",
     "output_type": "stream",
     "text": [
      "Index(['title_x', 'buy_num_x', 'click_num_x', 'brand_name', 'category_name',\n",
      "       'commission_amount', 'final_promotion_price', 'income_rate',\n",
      "       'level_one_category_name', 'reserve_price',\n",
      "       ...\n",
      "       'feature3', 'feature4', 'feature5', 'feature6', 'scenario_1',\n",
      "       'scenario_2', 'brand_real_1', 'brand_real_2', 'audience_1',\n",
      "       'audience_2'],\n",
      "      dtype='object', length=102)\n"
     ]
    }
   ],
   "source": [
    "print(data.columns)"
   ]
  },
  {
   "cell_type": "code",
   "execution_count": null,
   "metadata": {},
   "outputs": [
    {
     "name": "stdout",
     "output_type": "stream",
     "text": [
      "Count: 35227, Proportion: 0.0556\n"
     ]
    }
   ],
   "source": [
    "import pandas as pd\n",
    "\n",
    "\n",
    "label_counts = data.groupby(['title_x', 'lable_x']).size().unstack(fill_value=0)\n",
    "both_labels = label_counts[(label_counts[0.0] > 0) & (label_counts[1.0] > 0)].index\n",
    "data = data[~data['title_x'].isin(both_labels)]\n",
    "both_labels_count = label_counts[(label_counts[0.0] > 0) & (label_counts[1.0] > 0)].shape[0]\n",
    "\n",
    "# 计算占总个数的比例\n",
    "total_count = label_counts.shape[0]\n",
    "proportion = both_labels_count / total_count\n",
    "\n",
    "print(f\"Count: {both_labels_count}, Proportion: {proportion:.4f}\")"
   ]
  },
  {
   "cell_type": "code",
   "execution_count": 5,
   "metadata": {},
   "outputs": [],
   "source": [
    "import os\n",
    "output = 'z_data_new2/data_merged101'\n",
    "data.to_pickle(os.path.join(output,'07_22_merged_101.pkl'))"
   ]
  }
 ],
 "metadata": {
  "kernelspec": {
   "display_name": "lichen_special",
   "language": "python",
   "name": "python3"
  },
  "language_info": {
   "codemirror_mode": {
    "name": "ipython",
    "version": 3
   },
   "file_extension": ".py",
   "mimetype": "text/x-python",
   "name": "python",
   "nbconvert_exporter": "python",
   "pygments_lexer": "ipython3",
   "version": "3.9.6"
  }
 },
 "nbformat": 4,
 "nbformat_minor": 2
}
