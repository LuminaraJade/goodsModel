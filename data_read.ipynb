{
 "cells": [
  {
   "cell_type": "code",
   "execution_count": 1,
   "metadata": {},
   "outputs": [],
   "source": [
    "import pandas as pd"
   ]
  },
  {
   "cell_type": "code",
   "execution_count": null,
   "metadata": {},
   "outputs": [],
   "source": [
    "data1 = pd.read_pickle('z_data/data_with_growth/22_28_merged_data_more_feature.pkl')\n",
    "# data2 = pd.read_pickle('data_raw_20241224_py.pkl')\n",
    "\n",
    "\n",
    "print(len(data1['title_x'].unique()))\n"
   ]
  },
  {
   "cell_type": "code",
   "execution_count": null,
   "metadata": {},
   "outputs": [
    {
     "name": "stdout",
     "output_type": "stream",
     "text": [
      "lable_x                                 0.0  1.0\n",
      "title_x                                         \n",
      "  *软玻璃pvc透明桌布餐桌垫免洗防水防油防烫塑料水晶板茶几桌面垫        2    0\n",
      "  100%绵羊毛 可可尼COCOON 商场同款 秋冬新款气质黑色短款针织衫    0    1\n",
      "  15日鲜【三只松鼠量贩夏威夷果500g】2024新货大颗粒罐装坚果零食     1    0\n",
      "  2024年新茶上市狮峰牌绿茶特级龙井茶叶杭州明前龙井43号正宗春茶       1    0\n",
      "  2024新货【三只松鼠量贩开心果500g】大颗盐焗罐装坚果类零食干果      0    1\n",
      "...                                     ...  ...\n",
      "［限时秒杀］早c茶晚A茶刺梨无花果青桔柠檬茉莉维C组合养生茶包           1    0\n",
      "｜主播自留力荐款｜垂感含羊毛精纺人字纹显瘦加厚宽松阔腿直筒裤            4    0\n",
      "～英文不同～手提斜挎包旅行包拉杆箱 4319大号尺寸50/24/35cm      1    0\n",
      "￥829 秒！英伦气质 羊毛双面中长款大衣秋冬女春天家7L48           1    0\n",
      "￼ 匡威All star五角星印花高帮黑白撞色休闲透气帆布鞋 A09898C    1    0\n",
      "\n",
      "[436042 rows x 2 columns]\n"
     ]
    }
   ],
   "source": [
    "label_counts = data1.groupby('title_x')['lable_x'].value_counts().unstack(fill_value=0)\n",
    "print(label_counts)\n"
   ]
  },
  {
   "cell_type": "code",
   "execution_count": null,
   "metadata": {},
   "outputs": [],
   "source": [
    "\n",
    "both_labels_count = label_counts[(label_counts[0.0] > 0) & (label_counts[1.0] > 0)].shape[0]\n",
    "\n",
    "# 计算占总个数的比例\n",
    "total_count = label_counts.shape[0]\n",
    "proportion = both_labels_count / total_count\n",
    "\n",
    "print(f\"Count: {both_labels_count}, Proportion: {proportion:.4f}\")"
   ]
  },
  {
   "cell_type": "code",
   "execution_count": 5,
   "metadata": {},
   "outputs": [
    {
     "name": "stdout",
     "output_type": "stream",
     "text": [
      "Count: 23524, Proportion: 0.0539\n"
     ]
    }
   ],
   "source": [
    "# 计算 lable_x 在 0 和 1 都有大于 0 的值的个数\n",
    "both_labels_count = label_counts[(label_counts[0.0] > 0) & (label_counts[1.0] > 0)].shape[0]\n",
    "\n",
    "# 计算占总个数的比例\n",
    "total_count = label_counts.shape[0]\n",
    "proportion = both_labels_count / total_count\n",
    "\n",
    "print(f\"Count: {both_labels_count}, Proportion: {proportion:.4f}\")"
   ]
  },
  {
   "cell_type": "code",
   "execution_count": null,
   "metadata": {},
   "outputs": [],
   "source": [
    "data1['title_x']"
   ]
  },
  {
   "cell_type": "code",
   "execution_count": 6,
   "metadata": {},
   "outputs": [],
   "source": [
    "data1_unique = data1.drop_duplicates(subset=['title_x'])\n",
    "# print(data1_unique)"
   ]
  }
 ],
 "metadata": {
  "kernelspec": {
   "display_name": "lichen_special",
   "language": "python",
   "name": "python3"
  },
  "language_info": {
   "codemirror_mode": {
    "name": "ipython",
    "version": 3
   },
   "file_extension": ".py",
   "mimetype": "text/x-python",
   "name": "python",
   "nbconvert_exporter": "python",
   "pygments_lexer": "ipython3",
   "version": "3.9.6"
  }
 },
 "nbformat": 4,
 "nbformat_minor": 2
}
