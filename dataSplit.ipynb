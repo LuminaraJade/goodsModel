{
 "cells": [
  {
   "cell_type": "code",
   "execution_count": null,
   "metadata": {},
   "outputs": [],
   "source": [
    "import pandas as pd\n",
    "from collections import Counter\n",
    "import seaborn as sns\n",
    "import matplotlib.pyplot as plt\n",
    "from collections import Counter"
   ]
  },
  {
   "cell_type": "code",
   "execution_count": 2,
   "metadata": {},
   "outputs": [],
   "source": [
    "data2 = pd.read_pickle('z_data_new2/total_raw/data_raw_20241223_py.pkl')\n",
    "# data3 = pd.read_pickle('z_data/data_with_growth/data_1230_cleaned_merged.pkl')"
   ]
  },
  {
   "cell_type": "code",
   "execution_count": null,
   "metadata": {},
   "outputs": [],
   "source": [
    "print(data2.columns)"
   ]
  },
  {
   "cell_type": "code",
   "execution_count": null,
   "metadata": {},
   "outputs": [],
   "source": [
    "# data2['feature_split'] = data2['feature'].str.split(';')\n",
    "\n",
    "# # 过滤掉 None 值\n",
    "# data2 = data2.dropna(subset=['feature_split'])\n",
    "# max_splits_per_row = data2['feature_split'].apply(len).max()\n",
    "# print(f'每行最多有 {max_splits_per_row} 个拆分数据')"
   ]
  },
  {
   "cell_type": "code",
   "execution_count": null,
   "metadata": {},
   "outputs": [],
   "source": [
    "\n",
    "# data2['feature_split'] = data2['feature'].str.split(';')\n",
    "# data2 = data2.dropna(subset=['feature_split'])\n",
    "# data2['split_count'] = data2['feature_split'].apply(len)\n",
    "# most_common_count = data2['split_count'].value_counts().idxmax()\n",
    "# most_common_frequency = data2['split_count'].value_counts().max()\n",
    "# print(f'频数最高的拆分数据个数是 {most_common_count}，频数为 {most_common_frequency}')\n",
    "\n",
    "# plt.figure(figsize=(10, 6))\n",
    "# sns.histplot(data2['split_count'], bins=range(1, 20), kde=False)\n",
    "# plt.axvline(most_common_count, color='r', linestyle='--', label=f'频数最高: {most_common_count}')\n",
    "# plt.xlabel('每行数据个数')\n",
    "# plt.ylabel('频数')\n",
    "# plt.title('每行数据个数的分布图')\n",
    "# plt.legend()\n",
    "# plt.show()"
   ]
  },
  {
   "cell_type": "code",
   "execution_count": null,
   "metadata": {},
   "outputs": [],
   "source": [
    "def process_and_output(data):\n",
    "    data['feature_split'] = data['feature'].str.split(';')\n",
    "    data['split_count'] = data['feature_split'].apply(lambda x: len(x) if x is not None else 0)\n",
    "    \n",
    "    all_features = [feature for sublist in data['feature_split'].dropna() for feature in sublist]\n",
    "    feature_counts = Counter(all_features)\n",
    "\n",
    "    def process_features(features, feature_counts, max_len=6):\n",
    "        if features is None:\n",
    "            features = []\n",
    "        if len(features) > max_len:\n",
    "            features = sorted(features, key=lambda x: feature_counts[x], reverse=True)[:max_len]\n",
    "        # 如果不足 max_len 个，填充 -1\n",
    "        features.extend([-1] * (max_len - len(features)))\n",
    "        return features\n",
    "\n",
    "    data[['feature1', 'feature2', 'feature3', 'feature4', 'feature5', 'feature6']] = data['feature_split'].apply(lambda x: pd.Series(process_features(x, feature_counts)))\n",
    "    data = data.drop(columns=['feature_split', 'split_count', 'feature'])\n",
    "    \n",
    "    return data\n",
    "\n",
    "df = process_and_output(data2)\n",
    "print(df.columns)"
   ]
  },
  {
   "cell_type": "code",
   "execution_count": null,
   "metadata": {},
   "outputs": [],
   "source": [
    "\n",
    "\n",
    "# 获取频数最高的前20个值\n",
    "top_brand_real_counts = brand_real_counts.nlargest(20)\n",
    "top_audience_counts = audience_counts.nlargest(20)\n",
    "top_scenario_counts = scenario_counts.nlargest(20)\n",
    "\n",
    "# 绘制直方图\n",
    "plt.figure(figsize=(15, 5))\n",
    "\n",
    "plt.subplot(1, 3, 1)\n",
    "sns.barplot(x=top_brand_real_counts.values, y=top_brand_real_counts.index)\n",
    "plt.title('Brand Real Distribution')\n",
    "plt.xlabel('Frequency')\n",
    "plt.ylabel('Brand Real')\n",
    "\n",
    "plt.subplot(1, 3, 2)\n",
    "sns.barplot(x=top_audience_counts.values, y=top_audience_counts.index)\n",
    "plt.title('Audience Distribution')\n",
    "plt.xlabel('Frequency')\n",
    "plt.ylabel('Audience')\n",
    "\n",
    "plt.subplot(1, 3, 3)\n",
    "sns.barplot(x=top_scenario_counts.values, y=top_scenario_counts.index)\n",
    "plt.title('Scenario Distribution')\n",
    "plt.xlabel('Frequency')\n",
    "plt.ylabel('Scenario')\n",
    "\n",
    "plt.tight_layout()\n",
    "plt.show()\n"
   ]
  },
  {
   "cell_type": "code",
   "execution_count": null,
   "metadata": {},
   "outputs": [],
   "source": [
    "import pandas as pd\n",
    "import matplotlib.pyplot as plt\n",
    "import seaborn as sns\n",
    "\n",
    "\n",
    "# 定义函数拆分列并计算拆分后的个数\n",
    "def split_and_count(data, column):\n",
    "    data[f'{column}_split'] = data[column].str.split(';')\n",
    "    data = data.dropna(subset=[f'{column}_split'])\n",
    "    data[f'{column}_count'] = data[f'{column}_split'].apply(len)\n",
    "    return data\n",
    "\n",
    "# 对 scenario、brand_real、audience 列进行拆分并计算个数\n",
    "columns_to_split = ['scenario', 'brand_real', 'audience']\n",
    "for column in columns_to_split:\n",
    "    data2 = split_and_count(data2, column)\n",
    "\n",
    "# 绘制频数直方图\n",
    "plt.figure(figsize=(18, 6))\n",
    "\n",
    "for i, column in enumerate(columns_to_split, 1):\n",
    "    plt.subplot(1, 3, i)\n",
    "    sns.histplot(data2[f'{column}_count'], bins=range(1, data2[f'{column}_count'].max() + 1), kde=False)\n",
    "    plt.xlabel(f'{column} 拆分后个数')\n",
    "    plt.ylabel('频数')\n",
    "    plt.title(f'{column} 拆分后个数的分布图')\n",
    "\n",
    "plt.tight_layout()\n",
    "plt.show()"
   ]
  },
  {
   "cell_type": "code",
   "execution_count": null,
   "metadata": {},
   "outputs": [],
   "source": [
    "import pandas as pd\n",
    "from collections import Counter\n",
    "import matplotlib.pyplot as plt\n",
    "import seaborn as sns\n",
    "\n",
    "# 假设 data2 已经定义并包含数据\n",
    "\n",
    "# 定义一个函数来处理拆分列并保留前2个\n",
    "def split_and_expand(data, column, max_len=2):\n",
    "    data[f'{column}_split'] = data[column].str.split(';')\n",
    "    \n",
    "    all_items = [item for sublist in data[f'{column}_split'].dropna() for item in sublist]\n",
    "    item_counts = Counter(all_items)\n",
    "    \n",
    "    def process_items(items, item_counts, max_len):\n",
    "        if items is None:\n",
    "            items = []\n",
    "        if len(items) > max_len:\n",
    "            items = sorted(items, key=lambda x: item_counts[x], reverse=True)[:max_len]\n",
    "        # 如果不足 max_len 个，填充 -1\n",
    "        items.extend([-1] * (max_len - len(items)))\n",
    "        return items\n",
    "    \n",
    "    # 应用函数到每行\n",
    "    expanded_columns = data[f'{column}_split'].apply(lambda x: pd.Series(process_items(x, item_counts, max_len)))\n",
    "    expanded_columns.columns = [f'{column}_{i+1}' for i in range(max_len)]\n",
    "    \n",
    "    data = pd.concat([data, expanded_columns], axis=1)\n",
    "    data.drop(columns=[f'{column}_split'], inplace=True)\n",
    "    data.drop(columns=[column], inplace=True)\n",
    "    \n",
    "    return data\n",
    "\n",
    "columns_to_process = ['scenario', 'brand_real', 'audience']\n",
    "for column in columns_to_process:\n",
    "    data2 = split_and_expand(data2, column)\n",
    "\n",
    "print(data2.head())"
   ]
  },
  {
   "cell_type": "code",
   "execution_count": null,
   "metadata": {},
   "outputs": [],
   "source": [
    "print(data2.columns)"
   ]
  },
  {
   "cell_type": "code",
   "execution_count": null,
   "metadata": {},
   "outputs": [],
   "source": []
  }
 ],
 "metadata": {
  "kernelspec": {
   "display_name": "lichen_special",
   "language": "python",
   "name": "python3"
  },
  "language_info": {
   "codemirror_mode": {
    "name": "ipython",
    "version": 3
   },
   "file_extension": ".py",
   "mimetype": "text/x-python",
   "name": "python",
   "nbconvert_exporter": "python",
   "pygments_lexer": "ipython3",
   "version": "3.9.6"
  }
 },
 "nbformat": 4,
 "nbformat_minor": 2
}
