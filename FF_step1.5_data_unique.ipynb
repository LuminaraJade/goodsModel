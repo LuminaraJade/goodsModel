{
 "cells": [
  {
   "cell_type": "code",
   "execution_count": 2,
   "metadata": {},
   "outputs": [],
   "source": [
    "import pandas as pd\n",
    "import os"
   ]
  },
  {
   "cell_type": "code",
   "execution_count": null,
   "metadata": {},
   "outputs": [],
   "source": [
    "def clean_data(df):\n",
    "    original_shape = df.shape[0]  \n",
    "    # 去重\n",
    "    df = df.drop_duplicates() \n",
    "    df = df.dropna(subset=['category_name']) \n",
    "    df = df.drop_duplicates(subset=['title_x'])  \n",
    "\n",
    "    cleaned_shape = df.shape[0] \n",
    "    print(f\"Rows before cleaning: {original_shape}, Rows after cleaning: {cleaned_shape}\")\n",
    "    \n",
    "    return df\n",
    "\n",
    "\n",
    "def labelProcess(df):\n",
    "    df = df[df['buy_num_x'] != 1]\n",
    "    df.loc[:, 'lable_x'] = df.apply(\n",
    "        lambda row: 1 if ( row['buy_num_x'] >= 1 )\n",
    "        else (0 if (row['buy_num_x'] == 0 and row['click_num_x'] >= 5) else None), axis=1\n",
    "    )\n",
    "    \n",
    "    df = df.dropna(subset=['lable_x'])\n",
    "\n",
    "\n",
    "    print(f\"Dataframe {f'data_cleaned'} shape after processing: {df.shape}\")\n",
    "    posi = df[df['lable_x'] == 1]\n",
    "    print(posi.shape)\n",
    "    print(f\"Number of rows removed (buy_num_x == 1 or invalid 'lable_x'): {df.shape[0]}\")\n",
    "    return df\n",
    "\n",
    "add_features = pd.read_csv('tb_category_feature.csv')\n",
    "# add_features = pd.read_csv('addFeature.csv')\n",
    "def file_merge(df):\n",
    "\n",
    "    merged_data_more_fuature = df.merge(add_features, on=['level_one_category_name', 'category_name'], how='left')\n",
    "    return merged_data_more_fuature\n"
   ]
  },
  {
   "cell_type": "code",
   "execution_count": null,
   "metadata": {},
   "outputs": [
    {
     "name": "stdout",
     "output_type": "stream",
     "text": [
      "Rows before cleaning: 9562168, Rows after cleaning: 398478\n"
     ]
    },
    {
     "name": "stderr",
     "output_type": "stream",
     "text": [
      "/tmp/ipykernel_3659752/416197829.py:23: SettingWithCopyWarning: \n",
      "A value is trying to be set on a copy of a slice from a DataFrame.\n",
      "Try using .loc[row_indexer,col_indexer] = value instead\n",
      "\n",
      "See the caveats in the documentation: https://pandas.pydata.org/pandas-docs/stable/user_guide/indexing.html#returning-a-view-versus-a-copy\n",
      "  df.loc[:, 'lable_x'] = df.apply(\n"
     ]
    },
    {
     "name": "stdout",
     "output_type": "stream",
     "text": [
      "Dataframe data_cleaned shape after processing: (163913, 79)\n",
      "(52419, 79)\n",
      "Number of rows removed (buy_num_x == 1 or invalid 'lable_x'): 163913\n",
      "data_raw_20241230_py_merged_91.pkl saved\n"
     ]
    }
   ],
   "source": [
    "\n",
    "data_path = 'z_data_new/raw_data'\n",
    "output_path = 'z_data_new/data_merged_91'\n",
    "# fileName = ['data_raw_20241222_py.pkl','data_raw_20241223_py.pkl','data_raw_20241224_py.pkl','data_raw_20241225_py.pkl','data_raw_20241226_py.pkl','data_raw_20241227_py.pkl','data_raw_20241228_py.pkl','data_raw_20241229_py.pkl','data_raw_20241230_py.pkl','data_raw_20241231_py.pkl','data_raw_20250101_py.pkl','data_raw_20250102_py.pkl','data_raw_20250103_py.pkl','data_raw_20250104_py.pkl','data_raw_20250105_py.pkl','data_raw_20250106_py.pkl','data_raw_20250107_py.pkl']\n",
    "\n",
    "fileName = ['data_raw_20241230_py.pkl']\n",
    "for file in fileName:\n",
    "    file_pre = file.split('.')[0]\n",
    "    file_merge(labelProcess(clean_data(pd.read_pickle(os.path.join(data_path,file)))))#.to_pickle(os.path.join(output_path,f'{file_pre}_merged_91.pkl'))\n",
    "    print(f'{file_pre}_merged_91.pkl saved')\n",
    "# data_1230_cleaned = labelProcess(clean_data(pd.read_pickle(os.path.join(data_path,'data_raw_20241230_py.pkl'))))\n",
    "\n",
    "\n",
    "\n"
   ]
  },
  {
   "cell_type": "code",
   "execution_count": 4,
   "metadata": {},
   "outputs": [],
   "source": [
    "temp = pd.read_pickle('z_data/data_91/data_raw_20250107_py_merged_91.pkl')"
   ]
  }
 ],
 "metadata": {
  "kernelspec": {
   "display_name": "lichen_special",
   "language": "python",
   "name": "python3"
  },
  "language_info": {
   "codemirror_mode": {
    "name": "ipython",
    "version": 3
   },
   "file_extension": ".py",
   "mimetype": "text/x-python",
   "name": "python",
   "nbconvert_exporter": "python",
   "pygments_lexer": "ipython3",
   "version": "3.9.6"
  }
 },
 "nbformat": 4,
 "nbformat_minor": 2
}
